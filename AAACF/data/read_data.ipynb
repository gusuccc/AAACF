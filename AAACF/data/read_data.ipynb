{
 "cells": [
  {
   "cell_type": "code",
   "id": "initial_id",
   "metadata": {
    "collapsed": true,
    "ExecuteTime": {
     "end_time": "2024-09-09T09:10:55.545018Z",
     "start_time": "2024-09-09T09:10:49.317986Z"
    }
   },
   "source": "import pandas as pd",
   "outputs": [],
   "execution_count": 2
  },
  {
   "metadata": {
    "ExecuteTime": {
     "end_time": "2024-09-09T09:11:05.304831Z",
     "start_time": "2024-09-09T09:11:03.586959Z"
    }
   },
   "cell_type": "code",
   "source": [
    "amazon1 = pd.read_pickle('./amazon/trn_mat.pkl')\n",
    "amazon2 = pd.read_pickle('./amazon/tst_mat.pkl')\n",
    "amazon3 = pd.read_pickle('./amazon/val_mat.pkl')"
   ],
   "id": "73a70757d437f2db",
   "outputs": [],
   "execution_count": 3
  },
  {
   "metadata": {
    "ExecuteTime": {
     "end_time": "2024-09-09T09:11:06.052148Z",
     "start_time": "2024-09-09T09:11:06.049485Z"
    }
   },
   "cell_type": "code",
   "source": [
    "print(type(amazon1))\n",
    "# coo_matrix是稀疏矩阵，横坐标是uid,纵坐标是项目iid"
   ],
   "id": "53054ed69a5595e0",
   "outputs": [
    {
     "name": "stdout",
     "output_type": "stream",
     "text": [
      "<class 'scipy.sparse._coo.coo_matrix'>\n"
     ]
    }
   ],
   "execution_count": 4
  },
  {
   "metadata": {
    "ExecuteTime": {
     "end_time": "2024-09-09T09:11:08.247194Z",
     "start_time": "2024-09-09T09:11:08.243627Z"
    }
   },
   "cell_type": "code",
   "source": "print(amazon1)",
   "id": "fe2411732f8a2db4",
   "outputs": [
    {
     "name": "stdout",
     "output_type": "stream",
     "text": [
      "  (0, 0)\t1.0\n",
      "  (0, 1)\t1.0\n",
      "  (0, 2)\t1.0\n",
      "  (1, 3)\t1.0\n",
      "  (1, 4)\t1.0\n",
      "  (1, 5)\t1.0\n",
      "  (1, 6)\t1.0\n",
      "  (1, 7)\t1.0\n",
      "  (1, 8)\t1.0\n",
      "  (1, 9)\t1.0\n",
      "  (1, 10)\t1.0\n",
      "  (1, 11)\t1.0\n",
      "  (1, 12)\t1.0\n",
      "  (1, 13)\t1.0\n",
      "  (1, 14)\t1.0\n",
      "  (1, 15)\t1.0\n",
      "  (1, 16)\t1.0\n",
      "  (1, 17)\t1.0\n",
      "  (1, 18)\t1.0\n",
      "  (1, 19)\t1.0\n",
      "  (1, 20)\t1.0\n",
      "  (1, 21)\t1.0\n",
      "  (1, 22)\t1.0\n",
      "  (1, 23)\t1.0\n",
      "  (1, 24)\t1.0\n",
      "  :\t:\n",
      "  (10995, 3944)\t1.0\n",
      "  (10995, 8830)\t1.0\n",
      "  (10995, 8278)\t1.0\n",
      "  (10996, 4252)\t1.0\n",
      "  (10996, 5928)\t1.0\n",
      "  (10996, 1369)\t1.0\n",
      "  (10996, 188)\t1.0\n",
      "  (10996, 2568)\t1.0\n",
      "  (10996, 4288)\t1.0\n",
      "  (10997, 619)\t1.0\n",
      "  (10997, 5970)\t1.0\n",
      "  (10997, 710)\t1.0\n",
      "  (10998, 7598)\t1.0\n",
      "  (10998, 2449)\t1.0\n",
      "  (10998, 2630)\t1.0\n",
      "  (10998, 3183)\t1.0\n",
      "  (10998, 40)\t1.0\n",
      "  (10998, 7670)\t1.0\n",
      "  (10999, 1167)\t1.0\n",
      "  (10999, 1450)\t1.0\n",
      "  (10999, 1452)\t1.0\n",
      "  (10999, 1244)\t1.0\n",
      "  (10999, 1476)\t1.0\n",
      "  (10999, 1270)\t1.0\n",
      "  (10999, 8544)\t1.0\n"
     ]
    }
   ],
   "execution_count": 5
  },
  {
   "metadata": {
    "ExecuteTime": {
     "end_time": "2024-09-09T09:11:16.943932Z",
     "start_time": "2024-09-09T09:11:16.941043Z"
    }
   },
   "cell_type": "code",
   "source": "print(amazon2)",
   "id": "3fd652cd066839b9",
   "outputs": [
    {
     "name": "stdout",
     "output_type": "stream",
     "text": [
      "  (0, 164)\t1.0\n",
      "  (1, 2530)\t1.0\n",
      "  (1, 4335)\t1.0\n",
      "  (1, 1905)\t1.0\n",
      "  (1, 6642)\t1.0\n",
      "  (1, 1972)\t1.0\n",
      "  (1, 2978)\t1.0\n",
      "  (1, 6430)\t1.0\n",
      "  (1, 3129)\t1.0\n",
      "  (1, 268)\t1.0\n",
      "  (1, 4954)\t1.0\n",
      "  (2, 3)\t1.0\n",
      "  (2, 4453)\t1.0\n",
      "  (2, 6109)\t1.0\n",
      "  (2, 4587)\t1.0\n",
      "  (2, 5029)\t1.0\n",
      "  (2, 7405)\t1.0\n",
      "  (2, 7120)\t1.0\n",
      "  (2, 4353)\t1.0\n",
      "  (3, 3074)\t1.0\n",
      "  (3, 438)\t1.0\n",
      "  (3, 5359)\t1.0\n",
      "  (3, 3083)\t1.0\n",
      "  (3, 7719)\t1.0\n",
      "  (3, 114)\t1.0\n",
      "  :\t:\n",
      "  (10989, 8790)\t1.0\n",
      "  (10989, 8861)\t1.0\n",
      "  (10989, 8817)\t1.0\n",
      "  (10989, 8836)\t1.0\n",
      "  (10990, 8812)\t1.0\n",
      "  (10990, 3935)\t1.0\n",
      "  (10990, 7056)\t1.0\n",
      "  (10990, 6238)\t1.0\n",
      "  (10991, 7251)\t1.0\n",
      "  (10992, 8847)\t1.0\n",
      "  (10993, 7161)\t1.0\n",
      "  (10994, 8826)\t1.0\n",
      "  (10994, 7222)\t1.0\n",
      "  (10995, 7189)\t1.0\n",
      "  (10995, 7308)\t1.0\n",
      "  (10995, 3941)\t1.0\n",
      "  (10995, 6833)\t1.0\n",
      "  (10995, 8848)\t1.0\n",
      "  (10995, 8826)\t1.0\n",
      "  (10996, 7259)\t1.0\n",
      "  (10996, 4264)\t1.0\n",
      "  (10997, 5977)\t1.0\n",
      "  (10998, 3774)\t1.0\n",
      "  (10999, 1223)\t1.0\n",
      "  (10999, 6335)\t1.0\n"
     ]
    }
   ],
   "execution_count": 7
  },
  {
   "metadata": {
    "ExecuteTime": {
     "end_time": "2024-09-09T09:11:18.135926Z",
     "start_time": "2024-09-09T09:11:18.132985Z"
    }
   },
   "cell_type": "code",
   "source": "print(amazon3)",
   "id": "cf902f856781c9c4",
   "outputs": [
    {
     "name": "stdout",
     "output_type": "stream",
     "text": [
      "  (1, 164)\t1.0\n",
      "  (1, 495)\t1.0\n",
      "  (1, 1202)\t1.0\n",
      "  (1, 9105)\t1.0\n",
      "  (1, 7013)\t1.0\n",
      "  (1, 7160)\t1.0\n",
      "  (1, 536)\t1.0\n",
      "  (2, 1507)\t1.0\n",
      "  (2, 4268)\t1.0\n",
      "  (2, 1666)\t1.0\n",
      "  (3, 104)\t1.0\n",
      "  (3, 4384)\t1.0\n",
      "  (3, 132)\t1.0\n",
      "  (3, 801)\t1.0\n",
      "  (3, 5803)\t1.0\n",
      "  (3, 3094)\t1.0\n",
      "  (3, 9246)\t1.0\n",
      "  (3, 5779)\t1.0\n",
      "  (3, 4979)\t1.0\n",
      "  (3, 984)\t1.0\n",
      "  (3, 1293)\t1.0\n",
      "  (3, 130)\t1.0\n",
      "  (4, 1606)\t1.0\n",
      "  (4, 940)\t1.0\n",
      "  (4, 2568)\t1.0\n",
      "  :\t:\n",
      "  (10990, 7215)\t1.0\n",
      "  (10990, 8819)\t1.0\n",
      "  (10991, 3955)\t1.0\n",
      "  (10992, 8427)\t1.0\n",
      "  (10992, 3949)\t1.0\n",
      "  (10993, 8748)\t1.0\n",
      "  (10993, 8901)\t1.0\n",
      "  (10993, 7056)\t1.0\n",
      "  (10994, 8532)\t1.0\n",
      "  (10994, 8901)\t1.0\n",
      "  (10994, 5960)\t1.0\n",
      "  (10994, 8987)\t1.0\n",
      "  (10995, 7259)\t1.0\n",
      "  (10995, 6313)\t1.0\n",
      "  (10995, 8817)\t1.0\n",
      "  (10995, 8825)\t1.0\n",
      "  (10995, 8987)\t1.0\n",
      "  (10996, 6341)\t1.0\n",
      "  (10996, 4661)\t1.0\n",
      "  (10997, 645)\t1.0\n",
      "  (10998, 2438)\t1.0\n",
      "  (10998, 1402)\t1.0\n",
      "  (10998, 2680)\t1.0\n",
      "  (10999, 4052)\t1.0\n",
      "  (10999, 3019)\t1.0\n"
     ]
    }
   ],
   "execution_count": 8
  },
  {
   "metadata": {
    "ExecuteTime": {
     "end_time": "2024-09-03T03:13:25.103254Z",
     "start_time": "2024-09-03T03:13:25.089416Z"
    }
   },
   "cell_type": "code",
   "source": "usr_prf = pd.read_pickle('./amazon/usr_prf.pkl')",
   "id": "c1afb32dfae0fc67",
   "outputs": [],
   "execution_count": 107
  },
  {
   "metadata": {
    "ExecuteTime": {
     "end_time": "2024-09-03T03:13:25.107288Z",
     "start_time": "2024-09-03T03:13:25.104262Z"
    }
   },
   "cell_type": "code",
   "source": "print(type(usr_prf))",
   "id": "2339d4c2af5681ff",
   "outputs": [
    {
     "name": "stdout",
     "output_type": "stream",
     "text": [
      "<class 'dict'>\n"
     ]
    }
   ],
   "execution_count": 108
  },
  {
   "metadata": {
    "ExecuteTime": {
     "end_time": "2024-09-03T03:13:25.111188Z",
     "start_time": "2024-09-03T03:13:25.108297Z"
    }
   },
   "cell_type": "code",
   "source": [
    "print(usr_prf[0])\n",
    "print(type(usr_prf[0]))\n",
    "print(usr_prf[0][\"profile\"])"
   ],
   "id": "a5c7efd1fdb32599",
   "outputs": [
    {
     "name": "stdout",
     "output_type": "stream",
     "text": [
      "{'profile': 'This user enjoys reading heart-warming romance novels with relatable characters, sweet storylines, and family dynamics. They seem to like stories about second-chances, rebuilding trust, and starting over in relationships. They prefer books with well-developed characters, witty dialogue, and unexpected turns. However, they may not enjoy books with far-fetched ideas.', 'reasoning': \"Based on the user's reviews of the purchased books, they provided positive feedback on the heart-warming romance novels they read and enjoyed. They also mentioned enjoying the relatable characters and family dynamics. Additionally, they mentioned Bernadette's writing style and Brenda Jackson's ability to tell a story. Based on their reviews and book descriptions, it is evident that they prefer books with themes of second-chances, rebuilding trust, and family bonds. However, they may not enjoy books with far-fetched ideas and unrealistic plots.\"}\n",
      "<class 'dict'>\n",
      "This user enjoys reading heart-warming romance novels with relatable characters, sweet storylines, and family dynamics. They seem to like stories about second-chances, rebuilding trust, and starting over in relationships. They prefer books with well-developed characters, witty dialogue, and unexpected turns. However, they may not enjoy books with far-fetched ideas.\n"
     ]
    }
   ],
   "execution_count": 109
  },
  {
   "metadata": {
    "ExecuteTime": {
     "end_time": "2024-09-03T03:13:25.115231Z",
     "start_time": "2024-09-03T03:13:25.111188Z"
    }
   },
   "cell_type": "code",
   "source": "len(usr_prf)",
   "id": "dbe5d3fea8cbf4f9",
   "outputs": [
    {
     "data": {
      "text/plain": [
       "11000"
      ]
     },
     "execution_count": 110,
     "metadata": {},
     "output_type": "execute_result"
    }
   ],
   "execution_count": 110
  },
  {
   "metadata": {
    "ExecuteTime": {
     "end_time": "2024-09-03T03:13:25.119681Z",
     "start_time": "2024-09-03T03:13:25.116237Z"
    }
   },
   "cell_type": "code",
   "source": "print(amazon)",
   "id": "c50f4a5b564ae33e",
   "outputs": [
    {
     "name": "stdout",
     "output_type": "stream",
     "text": [
      "  (0, 0)\t1.0\n",
      "  (0, 1)\t1.0\n",
      "  (0, 2)\t1.0\n",
      "  (1, 3)\t1.0\n",
      "  (1, 4)\t1.0\n",
      "  (1, 5)\t1.0\n",
      "  (1, 6)\t1.0\n",
      "  (1, 7)\t1.0\n",
      "  (1, 8)\t1.0\n",
      "  (1, 9)\t1.0\n",
      "  (1, 10)\t1.0\n",
      "  (1, 11)\t1.0\n",
      "  (1, 12)\t1.0\n",
      "  (1, 13)\t1.0\n",
      "  (1, 14)\t1.0\n",
      "  (1, 15)\t1.0\n",
      "  (1, 16)\t1.0\n",
      "  (1, 17)\t1.0\n",
      "  (1, 18)\t1.0\n",
      "  (1, 19)\t1.0\n",
      "  (1, 20)\t1.0\n",
      "  (1, 21)\t1.0\n",
      "  (1, 22)\t1.0\n",
      "  (1, 23)\t1.0\n",
      "  (1, 24)\t1.0\n",
      "  :\t:\n",
      "  (10995, 3944)\t1.0\n",
      "  (10995, 8830)\t1.0\n",
      "  (10995, 8278)\t1.0\n",
      "  (10996, 4252)\t1.0\n",
      "  (10996, 5928)\t1.0\n",
      "  (10996, 1369)\t1.0\n",
      "  (10996, 188)\t1.0\n",
      "  (10996, 2568)\t1.0\n",
      "  (10996, 4288)\t1.0\n",
      "  (10997, 619)\t1.0\n",
      "  (10997, 5970)\t1.0\n",
      "  (10997, 710)\t1.0\n",
      "  (10998, 7598)\t1.0\n",
      "  (10998, 2449)\t1.0\n",
      "  (10998, 2630)\t1.0\n",
      "  (10998, 3183)\t1.0\n",
      "  (10998, 40)\t1.0\n",
      "  (10998, 7670)\t1.0\n",
      "  (10999, 1167)\t1.0\n",
      "  (10999, 1450)\t1.0\n",
      "  (10999, 1452)\t1.0\n",
      "  (10999, 1244)\t1.0\n",
      "  (10999, 1476)\t1.0\n",
      "  (10999, 1270)\t1.0\n",
      "  (10999, 8544)\t1.0\n"
     ]
    }
   ],
   "execution_count": 111
  },
  {
   "metadata": {
    "ExecuteTime": {
     "end_time": "2024-09-03T03:13:25.171398Z",
     "start_time": "2024-09-03T03:13:25.120685Z"
    }
   },
   "cell_type": "code",
   "source": "usr_emb = pd.read_pickle('./amazon/usr_emb_np.pkl')",
   "id": "96c4f7045408e1b7",
   "outputs": [],
   "execution_count": 112
  },
  {
   "metadata": {
    "ExecuteTime": {
     "end_time": "2024-09-03T03:13:25.176054Z",
     "start_time": "2024-09-03T03:13:25.172402Z"
    }
   },
   "cell_type": "code",
   "source": "print(type(usr_emb))",
   "id": "80991d3777f904e4",
   "outputs": [
    {
     "name": "stdout",
     "output_type": "stream",
     "text": [
      "<class 'numpy.ndarray'>\n"
     ]
    }
   ],
   "execution_count": 113
  },
  {
   "metadata": {
    "ExecuteTime": {
     "end_time": "2024-09-03T03:13:25.179850Z",
     "start_time": "2024-09-03T03:13:25.177133Z"
    }
   },
   "cell_type": "code",
   "source": [
    "print(usr_emb[0])\n",
    "print(len(usr_emb[0]))\n",
    "# 1536维"
   ],
   "id": "4c6c27a78c635dad",
   "outputs": [
    {
     "name": "stdout",
     "output_type": "stream",
     "text": [
      "[-0.00994867 -0.01401056 -0.00732578 ... -0.01203521 -0.00111685\n",
      " -0.01537106]\n",
      "1536\n"
     ]
    }
   ],
   "execution_count": 114
  },
  {
   "metadata": {
    "ExecuteTime": {
     "end_time": "2024-09-03T03:13:25.183598Z",
     "start_time": "2024-09-03T03:13:25.180853Z"
    }
   },
   "cell_type": "code",
   "source": "import json",
   "id": "8e8f6953fcf495f8",
   "outputs": [],
   "execution_count": 115
  },
  {
   "metadata": {
    "ExecuteTime": {
     "end_time": "2024-09-03T03:13:25.190465Z",
     "start_time": "2024-09-03T03:13:25.186602Z"
    }
   },
   "cell_type": "code",
   "source": [
    "with open('./amazon-CD/CDs_and_Vinyl_5.json', 'r') as file:\n",
    "    for line in file:\n",
    "        print(line)\n",
    "        print(type(line))\n",
    "        \n",
    "        review = json.loads(line)\n",
    "        print(review)\n",
    "        print(type(review))\n",
    "        print(review['reviewerID'])\n",
    "        break\n",
    "# asin是产品ID，reviewerID是用户ID"
   ],
   "id": "27ce410d2eac9ad1",
   "outputs": [
    {
     "name": "stdout",
     "output_type": "stream",
     "text": [
      "{\"reviewerID\": \"A3IEV6R2B7VW5Z\", \"asin\": \"0307141985\", \"reviewerName\": \"J. Anderson\", \"helpful\": [14, 15], \"reviewText\": \"I don't know who owns the rights to this wonderful production, but considering all the other Rankin/Bass goodies available on DVD, why has Mouse On The Mayflower been ignored for release? It's ludacris! Release it!! For heaven's sake!! This production deserves at least the same repect that was given to lesser productions like \\\"Rudoloph's Shiny New Year\\\" or \\\"The Little Drummer Boy, Book II\\\", which were not half as good as Mouse On The Mayflower\\\". Most of us Baby Boomers grew up with this stuff. We got our baths & teeth brushed early so we could watch them before being scurried off to bed, and anxiously awaited repeats year after year. Did anyone else but me sit with a cassette recorder next to the TV speaker so they could record the show audio? LOL. I did. I loved the songs, and I'd listen to the tapes I made and play the visuals over and over in my head. God it was great being a kid! C'Mon Rankin/Bass! Bring this one back on DVD! It's a classic!\", \"overall\": 5.0, \"summary\": \"LISTEN TO THE PUBLIC!!!\", \"unixReviewTime\": 1128556800, \"reviewTime\": \"10 6, 2005\"}\n",
      "\n",
      "<class 'str'>\n",
      "{'reviewerID': 'A3IEV6R2B7VW5Z', 'asin': '0307141985', 'reviewerName': 'J. Anderson', 'helpful': [14, 15], 'reviewText': 'I don\\'t know who owns the rights to this wonderful production, but considering all the other Rankin/Bass goodies available on DVD, why has Mouse On The Mayflower been ignored for release? It\\'s ludacris! Release it!! For heaven\\'s sake!! This production deserves at least the same repect that was given to lesser productions like \"Rudoloph\\'s Shiny New Year\" or \"The Little Drummer Boy, Book II\", which were not half as good as Mouse On The Mayflower\". Most of us Baby Boomers grew up with this stuff. We got our baths & teeth brushed early so we could watch them before being scurried off to bed, and anxiously awaited repeats year after year. Did anyone else but me sit with a cassette recorder next to the TV speaker so they could record the show audio? LOL. I did. I loved the songs, and I\\'d listen to the tapes I made and play the visuals over and over in my head. God it was great being a kid! C\\'Mon Rankin/Bass! Bring this one back on DVD! It\\'s a classic!', 'overall': 5.0, 'summary': 'LISTEN TO THE PUBLIC!!!', 'unixReviewTime': 1128556800, 'reviewTime': '10 6, 2005'}\n",
      "<class 'dict'>\n",
      "A3IEV6R2B7VW5Z\n"
     ]
    }
   ],
   "execution_count": 116
  },
  {
   "metadata": {
    "ExecuteTime": {
     "end_time": "2024-09-03T03:13:28.050103Z",
     "start_time": "2024-09-03T03:13:25.208054Z"
    }
   },
   "cell_type": "code",
   "source": [
    "line_count = 0\n",
    "\n",
    "with open('./amazon-CD/CDs_and_Vinyl_5.json', 'r') as file:\n",
    "    for line in file:\n",
    "        line_count += 1  # 每读一行，计数加一\n",
    "\n",
    "print(f\"总行数: {line_count}\") #1M的数据量，降到100k左右，采用k-core过滤，并消除rating<3or<=3"
   ],
   "id": "a23daea4ed8f7667",
   "outputs": [
    {
     "name": "stdout",
     "output_type": "stream",
     "text": [
      "总行数: 1097592\n"
     ]
    }
   ],
   "execution_count": 117
  },
  {
   "metadata": {
    "ExecuteTime": {
     "end_time": "2024-09-03T03:13:29.480840Z",
     "start_time": "2024-09-03T03:13:28.051107Z"
    }
   },
   "cell_type": "code",
   "source": [
    "# 指定列名\n",
    "column_names = ['uid', 'iid', 'rating', 'timestamp']\n",
    "\n",
    "# 读取CSV文件并指定列名\n",
    "df = pd.read_csv('./amazon-CD/ratings_CDs_and_Vinyl.csv', header=None, names=column_names)"
   ],
   "id": "9177dbc826d8a72b",
   "outputs": [],
   "execution_count": 118
  },
  {
   "metadata": {
    "ExecuteTime": {
     "end_time": "2024-09-03T03:13:29.487058Z",
     "start_time": "2024-09-03T03:13:29.480840Z"
    }
   },
   "cell_type": "code",
   "source": "df.head()",
   "id": "8076826573bbfb",
   "outputs": [
    {
     "data": {
      "text/plain": [
       "              uid         iid  rating   timestamp\n",
       "0   A9DMTMLFR9CO5  0001393774     5.0  1377907200\n",
       "1   AHG1GTQZUYNJN  0001393774     5.0  1372723200\n",
       "2  A2TFO7NREP2B2D  0001393774     5.0  1396396800\n",
       "3  A2YAPAG1IPNK7K  0001393774     5.0  1392422400\n",
       "4   AEKGGV851HY3K  0001393774     5.0  1130803200"
      ],
      "text/html": [
       "<div>\n",
       "<style scoped>\n",
       "    .dataframe tbody tr th:only-of-type {\n",
       "        vertical-align: middle;\n",
       "    }\n",
       "\n",
       "    .dataframe tbody tr th {\n",
       "        vertical-align: top;\n",
       "    }\n",
       "\n",
       "    .dataframe thead th {\n",
       "        text-align: right;\n",
       "    }\n",
       "</style>\n",
       "<table border=\"1\" class=\"dataframe\">\n",
       "  <thead>\n",
       "    <tr style=\"text-align: right;\">\n",
       "      <th></th>\n",
       "      <th>uid</th>\n",
       "      <th>iid</th>\n",
       "      <th>rating</th>\n",
       "      <th>timestamp</th>\n",
       "    </tr>\n",
       "  </thead>\n",
       "  <tbody>\n",
       "    <tr>\n",
       "      <th>0</th>\n",
       "      <td>A9DMTMLFR9CO5</td>\n",
       "      <td>0001393774</td>\n",
       "      <td>5.0</td>\n",
       "      <td>1377907200</td>\n",
       "    </tr>\n",
       "    <tr>\n",
       "      <th>1</th>\n",
       "      <td>AHG1GTQZUYNJN</td>\n",
       "      <td>0001393774</td>\n",
       "      <td>5.0</td>\n",
       "      <td>1372723200</td>\n",
       "    </tr>\n",
       "    <tr>\n",
       "      <th>2</th>\n",
       "      <td>A2TFO7NREP2B2D</td>\n",
       "      <td>0001393774</td>\n",
       "      <td>5.0</td>\n",
       "      <td>1396396800</td>\n",
       "    </tr>\n",
       "    <tr>\n",
       "      <th>3</th>\n",
       "      <td>A2YAPAG1IPNK7K</td>\n",
       "      <td>0001393774</td>\n",
       "      <td>5.0</td>\n",
       "      <td>1392422400</td>\n",
       "    </tr>\n",
       "    <tr>\n",
       "      <th>4</th>\n",
       "      <td>AEKGGV851HY3K</td>\n",
       "      <td>0001393774</td>\n",
       "      <td>5.0</td>\n",
       "      <td>1130803200</td>\n",
       "    </tr>\n",
       "  </tbody>\n",
       "</table>\n",
       "</div>"
      ]
     },
     "execution_count": 119,
     "metadata": {},
     "output_type": "execute_result"
    }
   ],
   "execution_count": 119
  },
  {
   "metadata": {
    "ExecuteTime": {
     "end_time": "2024-09-03T03:13:29.641066Z",
     "start_time": "2024-09-03T03:13:29.488062Z"
    }
   },
   "cell_type": "code",
   "source": "df.describe()",
   "id": "65a0f57599846a52",
   "outputs": [
    {
     "data": {
      "text/plain": [
       "             rating     timestamp\n",
       "count  3.749004e+06  3.749004e+06\n",
       "mean   4.402598e+00  1.202632e+09\n",
       "std    1.051720e+00  1.428417e+08\n",
       "min    1.000000e+00  8.711712e+08\n",
       "25%    4.000000e+00  1.086566e+09\n",
       "50%    5.000000e+00  1.205194e+09\n",
       "75%    5.000000e+00  1.349914e+09\n",
       "max    5.000000e+00  1.406074e+09"
      ],
      "text/html": [
       "<div>\n",
       "<style scoped>\n",
       "    .dataframe tbody tr th:only-of-type {\n",
       "        vertical-align: middle;\n",
       "    }\n",
       "\n",
       "    .dataframe tbody tr th {\n",
       "        vertical-align: top;\n",
       "    }\n",
       "\n",
       "    .dataframe thead th {\n",
       "        text-align: right;\n",
       "    }\n",
       "</style>\n",
       "<table border=\"1\" class=\"dataframe\">\n",
       "  <thead>\n",
       "    <tr style=\"text-align: right;\">\n",
       "      <th></th>\n",
       "      <th>rating</th>\n",
       "      <th>timestamp</th>\n",
       "    </tr>\n",
       "  </thead>\n",
       "  <tbody>\n",
       "    <tr>\n",
       "      <th>count</th>\n",
       "      <td>3.749004e+06</td>\n",
       "      <td>3.749004e+06</td>\n",
       "    </tr>\n",
       "    <tr>\n",
       "      <th>mean</th>\n",
       "      <td>4.402598e+00</td>\n",
       "      <td>1.202632e+09</td>\n",
       "    </tr>\n",
       "    <tr>\n",
       "      <th>std</th>\n",
       "      <td>1.051720e+00</td>\n",
       "      <td>1.428417e+08</td>\n",
       "    </tr>\n",
       "    <tr>\n",
       "      <th>min</th>\n",
       "      <td>1.000000e+00</td>\n",
       "      <td>8.711712e+08</td>\n",
       "    </tr>\n",
       "    <tr>\n",
       "      <th>25%</th>\n",
       "      <td>4.000000e+00</td>\n",
       "      <td>1.086566e+09</td>\n",
       "    </tr>\n",
       "    <tr>\n",
       "      <th>50%</th>\n",
       "      <td>5.000000e+00</td>\n",
       "      <td>1.205194e+09</td>\n",
       "    </tr>\n",
       "    <tr>\n",
       "      <th>75%</th>\n",
       "      <td>5.000000e+00</td>\n",
       "      <td>1.349914e+09</td>\n",
       "    </tr>\n",
       "    <tr>\n",
       "      <th>max</th>\n",
       "      <td>5.000000e+00</td>\n",
       "      <td>1.406074e+09</td>\n",
       "    </tr>\n",
       "  </tbody>\n",
       "</table>\n",
       "</div>"
      ]
     },
     "execution_count": 120,
     "metadata": {},
     "output_type": "execute_result"
    }
   ],
   "execution_count": 120
  },
  {
   "metadata": {
    "ExecuteTime": {
     "end_time": "2024-09-03T03:13:31.771565Z",
     "start_time": "2024-09-03T03:13:29.642575Z"
    }
   },
   "cell_type": "code",
   "source": [
    "# 删除rating中小于等于3的数据\n",
    "df_filtered = df[df['rating'] > 3]\n",
    "# 统计每个uid的数据数\n",
    "uid_counts = df_filtered.groupby('uid').size().reset_index(name='count')\n",
    "# 输出结果\n",
    "print(uid_counts)"
   ],
   "id": "95f6952a4e06f87",
   "outputs": [
    {
     "name": "stdout",
     "output_type": "stream",
     "text": [
      "                           uid  count\n",
      "0         A0001624UKLQG4OFIM8X      1\n",
      "1        A0002382258OFJJ2UYNTR      3\n",
      "2         A0005916MHK9RK69491E      1\n",
      "3         A0006650PUSTDDZX7UKW      1\n",
      "4        A00079183SD656284LYMR      1\n",
      "...                        ...    ...\n",
      "1425144          AZZZHA261DJ6V     10\n",
      "1425145          AZZZJIG4UBIF8      1\n",
      "1425146          AZZZLM1E5JJ8C      2\n",
      "1425147          AZZZMSZI9LKE6      1\n",
      "1425148           AZZZP6KY3MPK      1\n",
      "\n",
      "[1425149 rows x 2 columns]\n"
     ]
    }
   ],
   "execution_count": 121
  },
  {
   "metadata": {
    "ExecuteTime": {
     "end_time": "2024-09-03T03:13:31.796825Z",
     "start_time": "2024-09-03T03:13:31.772573Z"
    }
   },
   "cell_type": "code",
   "source": "uid_counts.describe()",
   "id": "9c164991abdc6e83",
   "outputs": [
    {
     "data": {
      "text/plain": [
       "              count\n",
       "count  1.425149e+06\n",
       "mean   2.239574e+00\n",
       "std    1.271799e+01\n",
       "min    1.000000e+00\n",
       "25%    1.000000e+00\n",
       "50%    1.000000e+00\n",
       "75%    2.000000e+00\n",
       "max    3.988000e+03"
      ],
      "text/html": [
       "<div>\n",
       "<style scoped>\n",
       "    .dataframe tbody tr th:only-of-type {\n",
       "        vertical-align: middle;\n",
       "    }\n",
       "\n",
       "    .dataframe tbody tr th {\n",
       "        vertical-align: top;\n",
       "    }\n",
       "\n",
       "    .dataframe thead th {\n",
       "        text-align: right;\n",
       "    }\n",
       "</style>\n",
       "<table border=\"1\" class=\"dataframe\">\n",
       "  <thead>\n",
       "    <tr style=\"text-align: right;\">\n",
       "      <th></th>\n",
       "      <th>count</th>\n",
       "    </tr>\n",
       "  </thead>\n",
       "  <tbody>\n",
       "    <tr>\n",
       "      <th>count</th>\n",
       "      <td>1.425149e+06</td>\n",
       "    </tr>\n",
       "    <tr>\n",
       "      <th>mean</th>\n",
       "      <td>2.239574e+00</td>\n",
       "    </tr>\n",
       "    <tr>\n",
       "      <th>std</th>\n",
       "      <td>1.271799e+01</td>\n",
       "    </tr>\n",
       "    <tr>\n",
       "      <th>min</th>\n",
       "      <td>1.000000e+00</td>\n",
       "    </tr>\n",
       "    <tr>\n",
       "      <th>25%</th>\n",
       "      <td>1.000000e+00</td>\n",
       "    </tr>\n",
       "    <tr>\n",
       "      <th>50%</th>\n",
       "      <td>1.000000e+00</td>\n",
       "    </tr>\n",
       "    <tr>\n",
       "      <th>75%</th>\n",
       "      <td>2.000000e+00</td>\n",
       "    </tr>\n",
       "    <tr>\n",
       "      <th>max</th>\n",
       "      <td>3.988000e+03</td>\n",
       "    </tr>\n",
       "  </tbody>\n",
       "</table>\n",
       "</div>"
      ]
     },
     "execution_count": 122,
     "metadata": {},
     "output_type": "execute_result"
    }
   ],
   "execution_count": 122
  },
  {
   "metadata": {
    "ExecuteTime": {
     "end_time": "2024-09-03T03:13:31.840991Z",
     "start_time": "2024-09-03T03:13:31.797830Z"
    }
   },
   "cell_type": "code",
   "source": [
    "# 统计 count 大于 5 和 10 的个数\n",
    "count_greater_than_5 = uid_counts[uid_counts['count'] > 5].shape[0]\n",
    "count_greater_than_10 = uid_counts[uid_counts['count'] > 10].shape[0]\n",
    "count_greater_than_11 = uid_counts[uid_counts['count'] > 11].shape[0]\n",
    "count_greater_than_12 = uid_counts[uid_counts['count'] > 12].shape[0]\n",
    "count_greater_than_13 = uid_counts[uid_counts['count'] > 13].shape[0]\n",
    "count_greater_than_14 = uid_counts[uid_counts['count'] > 14].shape[0]\n",
    "count_greater_than_15 = uid_counts[uid_counts['count'] > 15].shape[0]\n",
    "count_greater_than_20 = uid_counts[uid_counts['count'] > 20].shape[0]\n",
    "count_greater_than_10_20 = uid_counts[(uid_counts['count'] > 10) & (uid_counts['count'] < 20)].shape[0]\n",
    "count_greater_than_10_12 = uid_counts[(uid_counts['count'] >= 10) & (uid_counts['count'] <= 12)].shape[0]\n",
    "\n",
    "# 输出结果\n",
    "print(f\"Count of uids with more than 5 entries: {count_greater_than_5}\")\n",
    "print(f\"Count of uids with more than 10 entries: {count_greater_than_10}\")\n",
    "print(f\"Count of uids with more than 11 entries: {count_greater_than_11}\")\n",
    "print(f\"Count of uids with more than 12 entries: {count_greater_than_12}\")\n",
    "print(f\"Count of uids with more than 13 entries: {count_greater_than_13}\")\n",
    "print(f\"Count of uids with more than 14 entries: {count_greater_than_14}\")\n",
    "print(f\"Count of uids with more than 15 entries: {count_greater_than_15}\")\n",
    "print(f\"Count of uids with more than 20 entries: {count_greater_than_20}\")\n",
    "print(f\"Count of uids with more than 10_20 entries: {count_greater_than_10_20}\")\n",
    "print(f\"Count of uids with more than 10_12 entries: {count_greater_than_10_12}\") # 最后选择这一节的用户作为我们的数据集"
   ],
   "id": "b63db31266399726",
   "outputs": [
    {
     "name": "stdout",
     "output_type": "stream",
     "text": [
      "Count of uids with more than 5 entries: 70563\n",
      "Count of uids with more than 10 entries: 28725\n",
      "Count of uids with more than 11 entries: 25321\n",
      "Count of uids with more than 12 entries: 22554\n",
      "Count of uids with more than 13 entries: 20312\n",
      "Count of uids with more than 14 entries: 18410\n",
      "Count of uids with more than 15 entries: 16790\n",
      "Count of uids with more than 20 entries: 11381\n",
      "Count of uids with more than 10_20 entries: 16497\n",
      "Count of uids with more than 10_12 entries: 10504\n"
     ]
    }
   ],
   "execution_count": 123
  },
  {
   "metadata": {
    "ExecuteTime": {
     "end_time": "2024-09-03T03:13:32.198295Z",
     "start_time": "2024-09-03T03:13:31.840991Z"
    }
   },
   "cell_type": "code",
   "source": [
    "# 找到符合条件的uid\n",
    "valid_uids = uid_counts[(uid_counts['count'] >= 10) & (uid_counts['count'] <= 12)]['uid']\n",
    "# 过滤原数据，只保留符合条件的uid\n",
    "filtered_df = df_filtered[df_filtered['uid'].isin(valid_uids)]\n",
    "\n",
    "# 将filtered_df按照uid排序\n",
    "sorted_filtered_df = filtered_df.sort_values(by='uid')"
   ],
   "id": "a438a7800dc2da04",
   "outputs": [],
   "execution_count": 124
  },
  {
   "metadata": {
    "ExecuteTime": {
     "end_time": "2024-09-03T03:13:32.204670Z",
     "start_time": "2024-09-03T03:13:32.199309Z"
    }
   },
   "cell_type": "code",
   "source": [
    "sorted_filtered_df.head()\n",
    "# 113978交互 10504用户"
   ],
   "id": "59336ed0b02e4b52",
   "outputs": [
    {
     "data": {
      "text/plain": [
       "                           uid         iid  rating   timestamp\n",
       "3265984  A02039013W06XH9FVVFUZ  B0044M43SA     5.0  1352419200\n",
       "3321379  A02039013W06XH9FVVFUZ  B004TCPW8U     5.0  1352419200\n",
       "3222553  A02039013W06XH9FVVFUZ  B003R4JAS4     5.0  1352419200\n",
       "415545   A02039013W06XH9FVVFUZ  B000002H25     5.0  1352419200\n",
       "1310612  A02039013W06XH9FVVFUZ  B00004TRUP     5.0  1352419200"
      ],
      "text/html": [
       "<div>\n",
       "<style scoped>\n",
       "    .dataframe tbody tr th:only-of-type {\n",
       "        vertical-align: middle;\n",
       "    }\n",
       "\n",
       "    .dataframe tbody tr th {\n",
       "        vertical-align: top;\n",
       "    }\n",
       "\n",
       "    .dataframe thead th {\n",
       "        text-align: right;\n",
       "    }\n",
       "</style>\n",
       "<table border=\"1\" class=\"dataframe\">\n",
       "  <thead>\n",
       "    <tr style=\"text-align: right;\">\n",
       "      <th></th>\n",
       "      <th>uid</th>\n",
       "      <th>iid</th>\n",
       "      <th>rating</th>\n",
       "      <th>timestamp</th>\n",
       "    </tr>\n",
       "  </thead>\n",
       "  <tbody>\n",
       "    <tr>\n",
       "      <th>3265984</th>\n",
       "      <td>A02039013W06XH9FVVFUZ</td>\n",
       "      <td>B0044M43SA</td>\n",
       "      <td>5.0</td>\n",
       "      <td>1352419200</td>\n",
       "    </tr>\n",
       "    <tr>\n",
       "      <th>3321379</th>\n",
       "      <td>A02039013W06XH9FVVFUZ</td>\n",
       "      <td>B004TCPW8U</td>\n",
       "      <td>5.0</td>\n",
       "      <td>1352419200</td>\n",
       "    </tr>\n",
       "    <tr>\n",
       "      <th>3222553</th>\n",
       "      <td>A02039013W06XH9FVVFUZ</td>\n",
       "      <td>B003R4JAS4</td>\n",
       "      <td>5.0</td>\n",
       "      <td>1352419200</td>\n",
       "    </tr>\n",
       "    <tr>\n",
       "      <th>415545</th>\n",
       "      <td>A02039013W06XH9FVVFUZ</td>\n",
       "      <td>B000002H25</td>\n",
       "      <td>5.0</td>\n",
       "      <td>1352419200</td>\n",
       "    </tr>\n",
       "    <tr>\n",
       "      <th>1310612</th>\n",
       "      <td>A02039013W06XH9FVVFUZ</td>\n",
       "      <td>B00004TRUP</td>\n",
       "      <td>5.0</td>\n",
       "      <td>1352419200</td>\n",
       "    </tr>\n",
       "  </tbody>\n",
       "</table>\n",
       "</div>"
      ]
     },
     "execution_count": 125,
     "metadata": {},
     "output_type": "execute_result"
    }
   ],
   "execution_count": 125
  },
  {
   "metadata": {
    "ExecuteTime": {
     "end_time": "2024-09-03T03:13:32.483995Z",
     "start_time": "2024-09-03T03:13:32.205686Z"
    }
   },
   "cell_type": "code",
   "source": [
    "# 重编码 uid 和 iid\n",
    "uid_mapping = {original_uid: new_uid for new_uid, original_uid in enumerate(sorted_filtered_df['uid'].unique())}\n",
    "iid_mapping = {original_iid: new_iid for new_iid, original_iid in enumerate(sorted_filtered_df['iid'].unique())}\n",
    "\n",
    "# 替换 uid 和 iid\n",
    "sorted_filtered_df['uid'] = sorted_filtered_df['uid'].map(uid_mapping)\n",
    "sorted_filtered_df['iid'] = sorted_filtered_df['iid'].map(iid_mapping)\n",
    "\n",
    "# 准备 JSON 映射\n",
    "mapper_usr = []\n",
    "mapper_itm = []\n",
    "\n",
    "for original_uid, new_uid in uid_mapping.items():\n",
    "    mapper_usr.append({\"user\": new_uid, \"uid\": original_uid})\n",
    "\n",
    "for original_iid, new_iid in iid_mapping.items():\n",
    "    mapper_itm.append({\"iid\": new_iid, \"asin\": original_iid})\n",
    "\n",
    "# 保存映射到文件\n",
    "with open('./amazon-CD/amazon_usr.json', 'w') as f:\n",
    "    for item in mapper_usr:\n",
    "        f.write(json.dumps(item) + '\\n')  # 每行一个 JSON 对象\n",
    "        \n",
    "with open('./amazon-CD/amazon_itm.json', 'w') as f:\n",
    "    for item in mapper_itm:\n",
    "        f.write(json.dumps(item) + '\\n')  # 每行一个 JSON 对象\n",
    "\n",
    "# 输出重编码后的数据\n",
    "print(sorted_filtered_df)\n"
   ],
   "id": "43071492351e69b5",
   "outputs": [
    {
     "name": "stdout",
     "output_type": "stream",
     "text": [
      "           uid    iid  rating   timestamp\n",
      "3265984      0      0     5.0  1352419200\n",
      "3321379      0      1     5.0  1352419200\n",
      "3222553      0      2     5.0  1352419200\n",
      "415545       0      3     5.0  1352419200\n",
      "1310612      0      4     5.0  1352419200\n",
      "...        ...    ...     ...         ...\n",
      "752072   10503  67947     5.0   954460800\n",
      "752051   10503  67948     5.0   954460800\n",
      "713856   10503  67949     4.0   947030400\n",
      "714831   10503  67950     4.0  1006732800\n",
      "989165   10503  67951     4.0  1016496000\n",
      "\n",
      "[113978 rows x 4 columns]\n"
     ]
    }
   ],
   "execution_count": 126
  },
  {
   "metadata": {
    "ExecuteTime": {
     "end_time": "2024-09-03T03:13:32.490864Z",
     "start_time": "2024-09-03T03:13:32.485010Z"
    }
   },
   "cell_type": "code",
   "source": "sorted_filtered_df",
   "id": "7d653462e1494bf7",
   "outputs": [
    {
     "data": {
      "text/plain": [
       "           uid    iid  rating   timestamp\n",
       "3265984      0      0     5.0  1352419200\n",
       "3321379      0      1     5.0  1352419200\n",
       "3222553      0      2     5.0  1352419200\n",
       "415545       0      3     5.0  1352419200\n",
       "1310612      0      4     5.0  1352419200\n",
       "...        ...    ...     ...         ...\n",
       "752072   10503  67947     5.0   954460800\n",
       "752051   10503  67948     5.0   954460800\n",
       "713856   10503  67949     4.0   947030400\n",
       "714831   10503  67950     4.0  1006732800\n",
       "989165   10503  67951     4.0  1016496000\n",
       "\n",
       "[113978 rows x 4 columns]"
      ],
      "text/html": [
       "<div>\n",
       "<style scoped>\n",
       "    .dataframe tbody tr th:only-of-type {\n",
       "        vertical-align: middle;\n",
       "    }\n",
       "\n",
       "    .dataframe tbody tr th {\n",
       "        vertical-align: top;\n",
       "    }\n",
       "\n",
       "    .dataframe thead th {\n",
       "        text-align: right;\n",
       "    }\n",
       "</style>\n",
       "<table border=\"1\" class=\"dataframe\">\n",
       "  <thead>\n",
       "    <tr style=\"text-align: right;\">\n",
       "      <th></th>\n",
       "      <th>uid</th>\n",
       "      <th>iid</th>\n",
       "      <th>rating</th>\n",
       "      <th>timestamp</th>\n",
       "    </tr>\n",
       "  </thead>\n",
       "  <tbody>\n",
       "    <tr>\n",
       "      <th>3265984</th>\n",
       "      <td>0</td>\n",
       "      <td>0</td>\n",
       "      <td>5.0</td>\n",
       "      <td>1352419200</td>\n",
       "    </tr>\n",
       "    <tr>\n",
       "      <th>3321379</th>\n",
       "      <td>0</td>\n",
       "      <td>1</td>\n",
       "      <td>5.0</td>\n",
       "      <td>1352419200</td>\n",
       "    </tr>\n",
       "    <tr>\n",
       "      <th>3222553</th>\n",
       "      <td>0</td>\n",
       "      <td>2</td>\n",
       "      <td>5.0</td>\n",
       "      <td>1352419200</td>\n",
       "    </tr>\n",
       "    <tr>\n",
       "      <th>415545</th>\n",
       "      <td>0</td>\n",
       "      <td>3</td>\n",
       "      <td>5.0</td>\n",
       "      <td>1352419200</td>\n",
       "    </tr>\n",
       "    <tr>\n",
       "      <th>1310612</th>\n",
       "      <td>0</td>\n",
       "      <td>4</td>\n",
       "      <td>5.0</td>\n",
       "      <td>1352419200</td>\n",
       "    </tr>\n",
       "    <tr>\n",
       "      <th>...</th>\n",
       "      <td>...</td>\n",
       "      <td>...</td>\n",
       "      <td>...</td>\n",
       "      <td>...</td>\n",
       "    </tr>\n",
       "    <tr>\n",
       "      <th>752072</th>\n",
       "      <td>10503</td>\n",
       "      <td>67947</td>\n",
       "      <td>5.0</td>\n",
       "      <td>954460800</td>\n",
       "    </tr>\n",
       "    <tr>\n",
       "      <th>752051</th>\n",
       "      <td>10503</td>\n",
       "      <td>67948</td>\n",
       "      <td>5.0</td>\n",
       "      <td>954460800</td>\n",
       "    </tr>\n",
       "    <tr>\n",
       "      <th>713856</th>\n",
       "      <td>10503</td>\n",
       "      <td>67949</td>\n",
       "      <td>4.0</td>\n",
       "      <td>947030400</td>\n",
       "    </tr>\n",
       "    <tr>\n",
       "      <th>714831</th>\n",
       "      <td>10503</td>\n",
       "      <td>67950</td>\n",
       "      <td>4.0</td>\n",
       "      <td>1006732800</td>\n",
       "    </tr>\n",
       "    <tr>\n",
       "      <th>989165</th>\n",
       "      <td>10503</td>\n",
       "      <td>67951</td>\n",
       "      <td>4.0</td>\n",
       "      <td>1016496000</td>\n",
       "    </tr>\n",
       "  </tbody>\n",
       "</table>\n",
       "<p>113978 rows × 4 columns</p>\n",
       "</div>"
      ]
     },
     "execution_count": 127,
     "metadata": {},
     "output_type": "execute_result"
    }
   ],
   "execution_count": 127
  },
  {
   "metadata": {},
   "cell_type": "code",
   "outputs": [],
   "execution_count": null,
   "source": "sorted_filtered_df['rating'] = 1",
   "id": "99c3a3b4a23fd1d"
  },
  {
   "metadata": {
    "ExecuteTime": {
     "end_time": "2024-09-06T11:34:48.777729Z",
     "start_time": "2024-09-06T11:34:48.757609Z"
    }
   },
   "cell_type": "code",
   "source": [
    "usr_emb = pd.read_pickle('./amazon-CD/usr_emb_np.pkl')\n",
    "print(type(usr_emb))\n",
    "print(usr_emb[0])\n",
    "print(len(usr_emb[0]))\n",
    "# 1536维"
   ],
   "id": "548d42e4128bb286",
   "outputs": [
    {
     "name": "stdout",
     "output_type": "stream",
     "text": [
      "<class 'numpy.ndarray'>\n",
      "[-0.00832597  0.00294479  0.00132219 ... -0.01823658 -0.01501448\n",
      "  0.00895322]\n",
      "1536\n"
     ]
    }
   ],
   "execution_count": 128
  }
 ],
 "metadata": {
  "kernelspec": {
   "display_name": "Python 3",
   "language": "python",
   "name": "python3"
  },
  "language_info": {
   "codemirror_mode": {
    "name": "ipython",
    "version": 2
   },
   "file_extension": ".py",
   "mimetype": "text/x-python",
   "name": "python",
   "nbconvert_exporter": "python",
   "pygments_lexer": "ipython2",
   "version": "2.7.6"
  }
 },
 "nbformat": 4,
 "nbformat_minor": 5
}
